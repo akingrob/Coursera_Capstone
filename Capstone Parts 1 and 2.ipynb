{
 "cells": [
  {
   "cell_type": "markdown",
   "metadata": {},
   "source": [
    "<h1> Capstone Final Project\n",
    "    "
   ]
  },
  {
   "cell_type": "markdown",
   "metadata": {},
   "source": [
    "<h3>Introduction/Business Problem"
   ]
  },
  {
   "cell_type": "markdown",
   "metadata": {},
   "source": [
    "In the Data Science Capstone course, an exploratory data analysis was conducted to examine and cluster venues in areas of Toronto, Ontario with a Borough name that included the word 'Toronto'. Six boroughs were identified and neighborhoods within each of those boroughs were examined. The analysis revealed the most popular venues within the neighborhoods of those six boroughs. \n",
    "\n",
    "This report will expand on that analysis to examine the most popular types of restaurants in all boroughs in Toronto, Ontario. The analysis will provide venue information from the Foursquare location data tool to identify the most popular restaurants and their food types in each neighborhood in Toronto. This information can be used by tourists, visitors, or individuals who are new to the city to identify the most popular restaurants in each neighborhood by type of food. This information could also be used by individuals who are considering opening a new restaurant of a specific type to identify where that type of food is most popular in Toronto or where fewer restaurants of that type or located, which may be a good opportunity for business development in less crowded areas.\n",
    "\n",
    "  "
   ]
  },
  {
   "cell_type": "markdown",
   "metadata": {},
   "source": [
    "<h3>Data Description"
   ]
  },
  {
   "cell_type": "markdown",
   "metadata": {},
   "source": [
    "The data used in the analysis will contain Toronto area location identified by postal code from the wikipedia postal code website:  <a href='https://en.wikipedia.org/wiki/List_of_postal_codes_of_Canada:_M'>https://en.wikipedia.org/wiki/List_of_postal_codes_of_Canada:_M</a>. \n",
    "\n",
    "The data will be downloaded in the form of a json file. This data will be used to identify neighborhoods within Toronto by postal code. Using the postal codes for each of the neighborhoods, the longitude and latitude can be identified and passed to the FourSquare application to obtain the venue listings. A sample of the Postal Code json data is below. \n",
    "<img src='Json.jpg'>\n",
    "\n",
    "\n",
    "Geocoder data to obtain each neighborhood's longitude and latitude was an option considered, but the application is unstable so instead the longitude and latitude will come from a pre-loaded file from the Data Science capstone course that was used in the Week 3 Assignment.https://cf-courses-data.s3.us.cloud-object-storage.appdomain.cloud/IBMDeveloperSkillsNetwork-DS0701EN-SkillsNetwork/labs_v1/Geospatial_Coordinates.csv This data file provides postal code, longitude, and latitude and will be merged with the postal code data to produce a dataset that includes the longitude and latitude for each neighborhood, which will be used with the FourSquare application.\n",
    "\n",
    "A sample of the csv data that was read into a dataframe is provided below.\n",
    "<img src='csv%20exammple.jpg'>\n",
    "\n",
    "Venue information for each neighborhood will be obtained using the FourSquare application. Information on FourSquare can be found here: https://foursquare.com/ or on this page for developer information: https://developer.foursquare.com/\n",
    "\n",
    "\n",
    "FourSquare data will be obtained using the dataset produced with the two above data sources, identifying each Toronto neighborhood, postal code, longitude and latitude. The data from FourSquare will be received in the form of a json file, with a sample of the data provided below.\n",
    "<img src='FourSquare_example.jpg'>"
   ]
  },
  {
   "cell_type": "code",
   "execution_count": null,
   "metadata": {},
   "outputs": [],
   "source": []
  }
 ],
 "metadata": {
  "kernelspec": {
   "display_name": "Python 3",
   "language": "python",
   "name": "python3"
  },
  "language_info": {
   "codemirror_mode": {
    "name": "ipython",
    "version": 3
   },
   "file_extension": ".py",
   "mimetype": "text/x-python",
   "name": "python",
   "nbconvert_exporter": "python",
   "pygments_lexer": "ipython3",
   "version": "3.8.5"
  }
 },
 "nbformat": 4,
 "nbformat_minor": 4
}
